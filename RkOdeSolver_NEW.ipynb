{
 "cells": [
  {
   "cell_type": "code",
   "execution_count": 43,
   "metadata": {
    "vscode": {
     "languageId": "plaintext"
    }
   },
   "outputs": [],
   "source": [
    "import math\n",
    "import numpy as np\n",
    "import sympy as sp\n",
    "import matplotlib.pyplot as plt\n",
    "\n",
    "from scipy.integrate import odeint\n",
    "from scipy.integrate import solve_ivp"
   ]
  },
  {
   "cell_type": "code",
   "execution_count": 49,
   "metadata": {
    "vscode": {
     "languageId": "plaintext"
    }
   },
   "outputs": [],
   "source": [
    "# Runge-Kutta ODE Solver\n",
    "def odeSolver(S0, dSdt, total_time, time_steps):\n",
    "    \"\"\"\n",
    "    Solves a system of ODEs using the \"RK4\" Runge-Kutta method\n",
    "\n",
    "    Parameters:\n",
    "        S0: (list) representing all initial populations\n",
    "        dSdt: function representing the system of ODEs\n",
    "            -takes current populations and time as parameters\n",
    "            -returns a list describing the LV derivative equations \n",
    "        total_time: (float) total time frame for which the ODE is solved in\n",
    "        time_steps: (int) number of time points over total_time interval\n",
    "\n",
    "    Returns:\n",
    "        S: (NumPy array) array of shape (n, time_steps) containing the population values at each time step\n",
    "            -n = number of variables\n",
    "        t: (NumPy array) array containing time points corresponding to the time steps from 0 to total_time\n",
    "    \"\"\"\n",
    "    n = len(S0) # number of variables\n",
    "    S = np.zeros((n, time_steps)) # solution array\n",
    "    t = np.linspace(0, total_time, time_steps) # time array\n",
    "    h = t[1] - t[0] # time step size\n",
    "\n",
    "    # Defining initial values\n",
    "    for i in range(n):\n",
    "        S[i, 0] = S0[i]\n",
    "\n",
    "    # Implementing Runge-Kutta equations\n",
    "    for i in range(time_steps - 1):\n",
    "        for j in range(n):\n",
    "            k1 = dSdt(S[:, i], t)[j]\n",
    "            k2 = dSdt(S[:, i], t)[j] + (h/2)*k1\n",
    "            k3 = dSdt(S[:, i], t)[j] + (h/2)*k2\n",
    "            k4 = dSdt(S[:, i], t)[j] + h*k3\n",
    "\n",
    "            # Updating solution\n",
    "            S[j, i+1] = S[j, i] + (h/6)*(k1+2*k2+2*k3+k4)\n",
    "\n",
    "    return S, t"
   ]
  }
 ],
 "metadata": {
  "kernelspec": {
   "display_name": "Python 3 (ipykernel)",
   "language": "python",
   "name": "python3"
  },
  "language_info": {
   "codemirror_mode": {
    "name": "ipython",
    "version": 3
   },
   "file_extension": ".py",
   "mimetype": "text/x-python",
   "name": "python",
   "nbconvert_exporter": "python",
   "pygments_lexer": "ipython3",
   "version": "3.12.4"
  }
 },
 "nbformat": 4,
 "nbformat_minor": 4
}
