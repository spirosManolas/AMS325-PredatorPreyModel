{
 "cells": [
  {
   "cell_type": "code",
   "execution_count": null,
   "metadata": {
    "vscode": {
     "languageId": "plaintext"
    }
   },
   "outputs": [],
   "source": [
    "import math\n",
    "import numpy as np\n",
    "import sympy as sp\n",
    "import matplotlib.pyplot as plt\n",
    "\n",
    "from scipy.integrate import odeint\n",
    "from scipy.integrate import solve_ivp"
   ]
  },
  {
   "cell_type": "code",
   "execution_count": null,
   "metadata": {
    "vscode": {
     "languageId": "plaintext"
    }
   },
   "outputs": [],
   "source": [
    "#Runge-Kutta ODE Solver for 1 prey and 1 predator\n",
    "\n",
    "def odeSolver(S0, dSdt, time):\n",
    "    #S0: vector representing all initial populations\n",
    "    #dSdt : matrix representing the system of ODEs\n",
    "    #time : number of steps over which we are solving\n",
    "    \n",
    "    n = len(S0)\n",
    "\n",
    "    S = np.zeros((n, time))\n",
    "    \n",
    "    for i in range(n):\n",
    "        S[i, 0] = S0[i]\n",
    "\n",
    "\n",
    "    t = np.linspace(0, time, time)\n",
    "    \n",
    "    for i in range(time-1):\n",
    "        for j in range(n):\n",
    "            h = 0.001 #step size\n",
    "            k1 = dSdt(S[:, i], t)[j]\n",
    "            k2 = dSdt(S[:, i], t)[j] + (h/2)*k1\n",
    "            k3 = dSdt(S[:, i], t)[j] + (h/2)*k2\n",
    "            k4 = dSdt(S[:, i], t)[j] + h*k3\n",
    "            S[j, i+1] = S[j, i] + (h/6)*(k1+2*k2+2*k3+k4)\n",
    "\n",
    "    return S, t"
   ]
  }
 ],
 "metadata": {
  "language_info": {
   "name": "python"
  }
 },
 "nbformat": 4,
 "nbformat_minor": 2
}
